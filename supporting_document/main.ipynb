{
 "cells": [
  {
   "cell_type": "code",
   "execution_count": 51,
   "metadata": {},
   "outputs": [],
   "source": [
    "import json\n",
    "\n",
    "from data_process import get_str_from_pdf, get_dict_for_better_tagging_by_wrong_txt"
   ]
  },
  {
   "cell_type": "code",
   "execution_count": 20,
   "metadata": {},
   "outputs": [],
   "source": [
    "with open('/home/agwave/Data/resume/own_all_data_without_space.json', 'r') as j:\n",
    "    name_to_info = json.load(j)"
   ]
  },
  {
   "cell_type": "code",
   "execution_count": 50,
   "metadata": {},
   "outputs": [
    {
     "name": "stdout",
     "output_type": "stream",
     "text": [
      "[ 姓名 ]\n",
      "郝茗亚\n",
      "\n",
      "[ 项目名称 ]\n",
      "信息技术革命与当代认识论研究\n",
      "依托革命文化厚植广州发展精神底蕴研究\n",
      "清末政府聘用日本军人问题与军事现代化研究\n",
      "\n",
      "[ 项目责任 ]\n",
      "1、按时完成领导分配的采购工作，货比三家，积极开拓资源，完成降低采购成本的目的；2、根据计划进行采购物品的下单、跟踪、验收，完成相应报表；3、及时完成领导交办的其他事情。\n",
      "1、负责物联网云平台、PC应用系统、APP开发，并与传感器产品对接、互联互通，负责产品服务器端的维护及代码开发工作；并对开发的软件质量和进度负责；2、负责产品的NB、Lora、蓝牙、WIFI等无线模块的评估及软件设计和调试；3、完成相关技术文档、生产与测试文档的编写工作；4、负责制定物联网系统测试、性能测试、稳定性测试方案和优化方案；5、负责物联网产品的售前支持、方案编写、产品演示；6、解决集成技术难题，调查与挖掘客户需求，提出有针对性的解决方案；7、制定编写投标文档、项目方案书、行业技术文档；负责招投标过程中组织和技术工作；8.协助嵌入式工程师完成与上位机程序开发、测试，包括相关应用APP开发。\n",
      "1、负责公司产品的销售及推广,2、利用自媒体,微信,网络,QQ,电话等已有渠道发布公司以及相关的产品信息，3、接受客户咨询，了解客户需求，维护老客户渠道，4、公司提供资源，通过网络或熟悉途径开拓新客户，5、负责做好销售货款的回收工作，6、有自媒体销售经验优先。7.有农业自动化设备推广工作经验者优先。\n",
      "\n",
      "[ 项目时间 ]\n",
      "1997年02月-2010年10月\n",
      "2008.09-2016.03\n",
      "1997年03月-2013年08月\n",
      "\n",
      "[ 毕业时间 ]\n",
      "2014.01\n",
      "2009.11\n",
      "\n",
      "[ 毕业院校 ]\n",
      "对外经济贸易大学\n",
      "首都医科大学\n",
      "\n",
      "[ 学位 ]\n",
      "博士学位\n",
      "博士学位\n",
      "\n",
      "[ 电话 ]\n",
      "13900514400\n",
      "\n",
      "[ 工作时间 ]\n",
      "2008/10-2018/03\n",
      "2007/06-2011/12\n",
      "1990年03月-2012年06月\n",
      "\n",
      "[ 工作内容 ]\n",
      "1、配合相关部门领导，了解客户需求，确保设计项目顺利完成；2、参与设计评审、验证及设计确认工作；3、按照客户需求和设计要求进行构思，组织完成方案设计，绘制方案设计图；\n",
      "1.负责协助开发所有所有演艺相关项目的设计流程和开发。主导所有景观元素的设计。支持艺术总监实现创意团队设定的愿景。UnderthedirectionoftheArtDirector,Createanddevelopallscenic,propsandvisualelementsforEntertainmentrelatedshows,eventsandfestivals.2.通过各种视觉媒介诠释艺术概念。Interpretartisticconceptsthroughvariousvisualmediums.3.在保持演出的完整性的同事为项目的后勤和财务限制寻找创造性的解决方案。Findcreativesolutionstologisticaland/orfinancialconstraintsofprojectswhilepreservingtheintegrityoftheshow.4.识别并构建内部和外部设计资源Identifyandbuildinternalandexternaldesignresources.5.在设计过程中，主导设计，成本，进度和技术评审。负责开发创意设计，色板，草图，绘图，建模和其他创意输出，将元素融入到主题包装中。Leaddesign,cost,scheduleandtechnicalreviewduringthedesignprocess.Responsiblefordevelopingcreativedesigns,swatches,sketches,drawings,modelingandothercreativeoutputs,incorporatingelementsintothethemepackaging.6.设计应包括对当地的文化有深入的理解和尊重。Designshouldincludeindepthunderstandingregardinglocalcodesrequirement.7.与技术和制作团队密切合作，完成设计标书。WorkcloselywithtechnicalandProductionteamtodevelopDesignbidpackages8.在制作过程中，管理和监督舞美道具的生产，检查样品，材质的使用和颜色的选择。Duringproduction,manageandsuperviseproductionofscenicpiecesandprops,checksamples,materialuseandcolourselection.9.在安装过程中，监督施工，管理现场事宜。Duringinstallation,overseesconstruction,adviseandmanageonsitematters.10.确保最终产品与原始创意保持一致。Ensurethefinalproductisalignedwiththeoriginalcreativeintend.11.负责协助开发和完成PPT，并概述创意目标，获得内部和外部审批。Assistsinthedevelopmentandimplementationofpresentationsandpresentationartworkoutliningcreativegoalsandintenttogaininternalandexternalapprovals.\n",
      "1、制定部门（质量、生产、仓储、采购等）整体目标和实施计划，进行分解和组织实施，定期回顾完成情况，优化流程和管理体系，实现运营目标。2、根据运营计划制定预算，合理安排使用，并结合业务进度适时进行调整。3、规划人员架构，形成人员梯队建设，打造符合公司文化和发展的专业团队。4、关注市场和政策最新信息，及时汇总分析，提供合理建议。5、对负责区域内重点学术客户定期拜访，了解客户最新情况，为客户提供优质服务。6、协调各个部门和业务积极沟通，建立顺畅的部门间协作。7、与行业政府主管部门建立良好联系，及时了解监管要求和政策变化。\n",
      "\n",
      "[ 职务 ]\n",
      "设计助理\n",
      "行政主管\n",
      "产品经理\n",
      "\n",
      "[ 工作单位 ]\n",
      "中山市广弘集团有限公司\n",
      "广东全优加教育发展有限公司\n",
      "广州积特企业管理咨询有限公司\n",
      "\n",
      "[ 最高学历 ]\n",
      "高中\n",
      "\n"
     ]
    }
   ],
   "source": [
    "info = name_to_info['7c7960a4d38e']\n",
    "for i, v in info.items():\n",
    "    print('[',i,']')\n",
    "    if isinstance(v, list):\n",
    "        for s in v:\n",
    "            print(s)\n",
    "    else:\n",
    "        print(v)\n",
    "    print()"
   ]
  },
  {
   "cell_type": "code",
   "execution_count": 53,
   "metadata": {},
   "outputs": [
    {
     "name": "stdout",
     "output_type": "stream",
     "text": [
      "庞滢意向岗位：前端开发出生日期：1955.10籍贯：湖南省益阳市工作年限：3年电话：13707645546邮箱：66mk5t@0355.net兴趣爱好编程、看电影、音乐教育背景2002.07--2006.07国家开放大学（中央广播电视大学）硕士学位2004.04--2008.04北京第二外国语学院学士学位2002.08--2006.08北京工商大学嘉华学院博士学位工作经历1995/11-2011/08上海捷荣食品有限公司.NET开发工程师1、负责公司财务分析与管理；2、负责公司对外结算工作；3、能运用Excel进行数据处理。2001.12-2012.08广汽蔚来新能源汽车科技有限公司工行营业部驻点内勤1.负责公司采购工作，根据部门的具体需要提出采购计划;采购计划经领导审批后，负责组织实施，并监控采购的具体过程;3.负责大批采购商品的谈判，4.对于招标采购，需组织招标工作，评估管理供应商;负责采购合同的签订;5.在规定时间内完成采购任务，并尽量减少开支;6.负责采购相关审批、合同、付款等事务。1991.03-2016.06深圳斯达领科网络科技有限公司区县代表1.通过各种方式挖掘客户需求，开拓客户，负责企业管理软件销售工作；2.负责商务谈判、签订合同等工作；3.负责售前沟通、协调工作，深度挖掘客户核心需求；4.收集市场及客户反馈，及时与技术部沟通衔接；5.根据公司销售策略，完成公司制定的销售指标。项目经历1992.05-2014.10项目介绍：清末政府聘用日本军人问题与军事现代化研究项目内容：1、负责网站产品专题、风格设计、网页，专题设计以及美术创意制作，公司对外宣传活动的设计；2、负责协助网站建设和网络推广过程中所需要的各种图片和网络广告制作工作3、负责公司产品的整体UI设计4、协助市场部负责人完成相关的设计工作5、负责公司广告宣传物资、产品资料、产品展示、产品界面等相关设计制作6、负责协助项目进行产品界面设计7、参与公司活动项目的创意设计、平面表现手法，并提出个人思路8、完成领导交代的其他任务\n"
     ]
    }
   ],
   "source": [
    "pdf_text = get_str_from_pdf('/home/agwave/Data/resume/resume_train_20200121/pdf/c8aaf14994ed.pdf')\n",
    "print(pdf_text)"
   ]
  },
  {
   "cell_type": "code",
   "execution_count": 24,
   "metadata": {},
   "outputs": [],
   "source": [
    "ret = get_dict_for_better_tagging_by_wrong_txt('wrong_pdf.txt')"
   ]
  },
  {
   "cell_type": "code",
   "execution_count": 27,
   "metadata": {},
   "outputs": [
    {
     "data": {
      "text/plain": [
       "[['1991年07月-2013', '年11月', 'woti']]"
      ]
     },
     "execution_count": 27,
     "metadata": {},
     "output_type": "execute_result"
    }
   ],
   "source": [
    "ret['b7bcc3802b6a']"
   ]
  },
  {
   "cell_type": "code",
   "execution_count": null,
   "metadata": {},
   "outputs": [],
   "source": []
  }
 ],
 "metadata": {
  "kernelspec": {
   "display_name": "Python 3",
   "language": "python",
   "name": "python3"
  },
  "language_info": {
   "codemirror_mode": {
    "name": "ipython",
    "version": 3
   },
   "file_extension": ".py",
   "mimetype": "text/x-python",
   "name": "python",
   "nbconvert_exporter": "python",
   "pygments_lexer": "ipython3",
   "version": "3.6.8"
  }
 },
 "nbformat": 4,
 "nbformat_minor": 2
}
